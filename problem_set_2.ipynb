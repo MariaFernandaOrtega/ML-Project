{
  "nbformat": 4,
  "nbformat_minor": 0,
  "metadata": {
    "colab": {
      "provenance": [],
      "include_colab_link": true
    },
    "kernelspec": {
      "name": "python3",
      "display_name": "Python 3"
    },
    "language_info": {
      "name": "python"
    }
  },
  "cells": [
    {
      "cell_type": "markdown",
      "metadata": {
        "id": "view-in-github",
        "colab_type": "text"
      },
      "source": [
        "<a href=\"https://colab.research.google.com/github/MariaFernandaOrtega/ML-Project/blob/main/problem_set_2.ipynb\" target=\"_parent\"><img src=\"https://colab.research.google.com/assets/colab-badge.svg\" alt=\"Open In Colab\"/></a>"
      ]
    },
    {
      "cell_type": "markdown",
      "source": [
        "## Problem Set 2\n",
        "\n",
        "In this problem set you will apply different preprocessing steps, and observe how data and results change depending on the chosen process.\n",
        "\n",
        "The problem set is due on: 21.10.2022\n",
        "\n",
        "Student name: "
      ],
      "metadata": {
        "id": "RU6-Dn5y1ENP"
      }
    },
    {
      "cell_type": "markdown",
      "source": [
        "First load the 'auto-mpg.csv' dataset available to you on the GitHub repo"
      ],
      "metadata": {
        "id": "VgfPDgC71NRt"
      }
    },
    {
      "cell_type": "code",
      "source": [
        "# Upload the file into the notebook and set it as a dataframe\n",
        "import pandas as pd\n",
        "from google.colab import files\n",
        "uploaded = files.upload()\n",
        "import io\n",
        "df = pd.read_csv(io.BytesIO(uploaded['auto-mpg.csv']))\n",
        "df_new = pd.DataFrame(df)"
      ],
      "metadata": {
        "id": "Rm4caUjw1aO0",
        "outputId": "731748ff-4169-4133-de2e-c1e5aaf929a6",
        "colab": {
          "base_uri": "https://localhost:8080/",
          "height": 73
        }
      },
      "execution_count": 2,
      "outputs": [
        {
          "output_type": "display_data",
          "data": {
            "text/plain": [
              "<IPython.core.display.HTML object>"
            ],
            "text/html": [
              "\n",
              "     <input type=\"file\" id=\"files-e738c0c5-0ce1-4bbc-8144-dc796b9e8058\" name=\"files[]\" multiple disabled\n",
              "        style=\"border:none\" />\n",
              "     <output id=\"result-e738c0c5-0ce1-4bbc-8144-dc796b9e8058\">\n",
              "      Upload widget is only available when the cell has been executed in the\n",
              "      current browser session. Please rerun this cell to enable.\n",
              "      </output>\n",
              "      <script>// Copyright 2017 Google LLC\n",
              "//\n",
              "// Licensed under the Apache License, Version 2.0 (the \"License\");\n",
              "// you may not use this file except in compliance with the License.\n",
              "// You may obtain a copy of the License at\n",
              "//\n",
              "//      http://www.apache.org/licenses/LICENSE-2.0\n",
              "//\n",
              "// Unless required by applicable law or agreed to in writing, software\n",
              "// distributed under the License is distributed on an \"AS IS\" BASIS,\n",
              "// WITHOUT WARRANTIES OR CONDITIONS OF ANY KIND, either express or implied.\n",
              "// See the License for the specific language governing permissions and\n",
              "// limitations under the License.\n",
              "\n",
              "/**\n",
              " * @fileoverview Helpers for google.colab Python module.\n",
              " */\n",
              "(function(scope) {\n",
              "function span(text, styleAttributes = {}) {\n",
              "  const element = document.createElement('span');\n",
              "  element.textContent = text;\n",
              "  for (const key of Object.keys(styleAttributes)) {\n",
              "    element.style[key] = styleAttributes[key];\n",
              "  }\n",
              "  return element;\n",
              "}\n",
              "\n",
              "// Max number of bytes which will be uploaded at a time.\n",
              "const MAX_PAYLOAD_SIZE = 100 * 1024;\n",
              "\n",
              "function _uploadFiles(inputId, outputId) {\n",
              "  const steps = uploadFilesStep(inputId, outputId);\n",
              "  const outputElement = document.getElementById(outputId);\n",
              "  // Cache steps on the outputElement to make it available for the next call\n",
              "  // to uploadFilesContinue from Python.\n",
              "  outputElement.steps = steps;\n",
              "\n",
              "  return _uploadFilesContinue(outputId);\n",
              "}\n",
              "\n",
              "// This is roughly an async generator (not supported in the browser yet),\n",
              "// where there are multiple asynchronous steps and the Python side is going\n",
              "// to poll for completion of each step.\n",
              "// This uses a Promise to block the python side on completion of each step,\n",
              "// then passes the result of the previous step as the input to the next step.\n",
              "function _uploadFilesContinue(outputId) {\n",
              "  const outputElement = document.getElementById(outputId);\n",
              "  const steps = outputElement.steps;\n",
              "\n",
              "  const next = steps.next(outputElement.lastPromiseValue);\n",
              "  return Promise.resolve(next.value.promise).then((value) => {\n",
              "    // Cache the last promise value to make it available to the next\n",
              "    // step of the generator.\n",
              "    outputElement.lastPromiseValue = value;\n",
              "    return next.value.response;\n",
              "  });\n",
              "}\n",
              "\n",
              "/**\n",
              " * Generator function which is called between each async step of the upload\n",
              " * process.\n",
              " * @param {string} inputId Element ID of the input file picker element.\n",
              " * @param {string} outputId Element ID of the output display.\n",
              " * @return {!Iterable<!Object>} Iterable of next steps.\n",
              " */\n",
              "function* uploadFilesStep(inputId, outputId) {\n",
              "  const inputElement = document.getElementById(inputId);\n",
              "  inputElement.disabled = false;\n",
              "\n",
              "  const outputElement = document.getElementById(outputId);\n",
              "  outputElement.innerHTML = '';\n",
              "\n",
              "  const pickedPromise = new Promise((resolve) => {\n",
              "    inputElement.addEventListener('change', (e) => {\n",
              "      resolve(e.target.files);\n",
              "    });\n",
              "  });\n",
              "\n",
              "  const cancel = document.createElement('button');\n",
              "  inputElement.parentElement.appendChild(cancel);\n",
              "  cancel.textContent = 'Cancel upload';\n",
              "  const cancelPromise = new Promise((resolve) => {\n",
              "    cancel.onclick = () => {\n",
              "      resolve(null);\n",
              "    };\n",
              "  });\n",
              "\n",
              "  // Wait for the user to pick the files.\n",
              "  const files = yield {\n",
              "    promise: Promise.race([pickedPromise, cancelPromise]),\n",
              "    response: {\n",
              "      action: 'starting',\n",
              "    }\n",
              "  };\n",
              "\n",
              "  cancel.remove();\n",
              "\n",
              "  // Disable the input element since further picks are not allowed.\n",
              "  inputElement.disabled = true;\n",
              "\n",
              "  if (!files) {\n",
              "    return {\n",
              "      response: {\n",
              "        action: 'complete',\n",
              "      }\n",
              "    };\n",
              "  }\n",
              "\n",
              "  for (const file of files) {\n",
              "    const li = document.createElement('li');\n",
              "    li.append(span(file.name, {fontWeight: 'bold'}));\n",
              "    li.append(span(\n",
              "        `(${file.type || 'n/a'}) - ${file.size} bytes, ` +\n",
              "        `last modified: ${\n",
              "            file.lastModifiedDate ? file.lastModifiedDate.toLocaleDateString() :\n",
              "                                    'n/a'} - `));\n",
              "    const percent = span('0% done');\n",
              "    li.appendChild(percent);\n",
              "\n",
              "    outputElement.appendChild(li);\n",
              "\n",
              "    const fileDataPromise = new Promise((resolve) => {\n",
              "      const reader = new FileReader();\n",
              "      reader.onload = (e) => {\n",
              "        resolve(e.target.result);\n",
              "      };\n",
              "      reader.readAsArrayBuffer(file);\n",
              "    });\n",
              "    // Wait for the data to be ready.\n",
              "    let fileData = yield {\n",
              "      promise: fileDataPromise,\n",
              "      response: {\n",
              "        action: 'continue',\n",
              "      }\n",
              "    };\n",
              "\n",
              "    // Use a chunked sending to avoid message size limits. See b/62115660.\n",
              "    let position = 0;\n",
              "    do {\n",
              "      const length = Math.min(fileData.byteLength - position, MAX_PAYLOAD_SIZE);\n",
              "      const chunk = new Uint8Array(fileData, position, length);\n",
              "      position += length;\n",
              "\n",
              "      const base64 = btoa(String.fromCharCode.apply(null, chunk));\n",
              "      yield {\n",
              "        response: {\n",
              "          action: 'append',\n",
              "          file: file.name,\n",
              "          data: base64,\n",
              "        },\n",
              "      };\n",
              "\n",
              "      let percentDone = fileData.byteLength === 0 ?\n",
              "          100 :\n",
              "          Math.round((position / fileData.byteLength) * 100);\n",
              "      percent.textContent = `${percentDone}% done`;\n",
              "\n",
              "    } while (position < fileData.byteLength);\n",
              "  }\n",
              "\n",
              "  // All done.\n",
              "  yield {\n",
              "    response: {\n",
              "      action: 'complete',\n",
              "    }\n",
              "  };\n",
              "}\n",
              "\n",
              "scope.google = scope.google || {};\n",
              "scope.google.colab = scope.google.colab || {};\n",
              "scope.google.colab._files = {\n",
              "  _uploadFiles,\n",
              "  _uploadFilesContinue,\n",
              "};\n",
              "})(self);\n",
              "</script> "
            ]
          },
          "metadata": {}
        },
        {
          "output_type": "stream",
          "name": "stdout",
          "text": [
            "Saving auto-mpg.csv to auto-mpg (1).csv\n"
          ]
        }
      ]
    },
    {
      "cell_type": "code",
      "source": [
        "# Inspect the first five samples\n",
        "print(df_new.head())\n",
        "\n",
        "t=df_new.loc[2,\"car name\"]\n",
        "print(t)"
      ],
      "metadata": {
        "id": "QZR3xufp1eRd",
        "outputId": "058055cb-3dd0-4949-f58f-d6961066e516",
        "colab": {
          "base_uri": "https://localhost:8080/"
        }
      },
      "execution_count": 21,
      "outputs": [
        {
          "output_type": "stream",
          "name": "stdout",
          "text": [
            "    mpg  cylinders  displacement horsepower  weight  acceleration  model year  \\\n",
            "0  18.0          8         307.0        130    3504          12.0          70   \n",
            "1  15.0          8         350.0        165    3693          11.5          70   \n",
            "2  18.0          8         318.0        150    3436          11.0          70   \n",
            "3  16.0          8         304.0        150    3433          12.0          70   \n",
            "4  17.0          8         302.0        140    3449          10.5          70   \n",
            "\n",
            "   origin                   car name  \n",
            "0       1  chevrolet chevelle malibu  \n",
            "1       1          buick skylark 320  \n",
            "2       1         plymouth satellite  \n",
            "3       1              amc rebel sst  \n",
            "4       1                ford torino  \n",
            "plymouth satellite\n"
          ]
        }
      ]
    },
    {
      "cell_type": "markdown",
      "source": [
        "Question 1: What is the car name of sample index 3?\n",
        "\n",
        "(Hint: Remember that Python index begins at 0)"
      ],
      "metadata": {
        "id": "KaxQzreR1hHg"
      }
    },
    {
      "cell_type": "code",
      "source": [
        "# Observe the data types of each variable\n",
        "\n",
        "df_new.dtypes"
      ],
      "metadata": {
        "id": "fDHvVqcv1nLv",
        "outputId": "990b7be6-c7ea-433e-fecd-278159af803d",
        "colab": {
          "base_uri": "https://localhost:8080/"
        }
      },
      "execution_count": 22,
      "outputs": [
        {
          "output_type": "execute_result",
          "data": {
            "text/plain": [
              "mpg             float64\n",
              "cylinders         int64\n",
              "displacement    float64\n",
              "horsepower       object\n",
              "weight            int64\n",
              "acceleration    float64\n",
              "model year        int64\n",
              "origin            int64\n",
              "car name         object\n",
              "dtype: object"
            ]
          },
          "metadata": {},
          "execution_count": 22
        }
      ]
    },
    {
      "cell_type": "markdown",
      "source": [
        "Question 2: What are the variables that are saved as categorical in the data frame?"
      ],
      "metadata": {
        "id": "Fwp2tuZH1Z4M"
      }
    },
    {
      "cell_type": "code",
      "source": [
        "# Set as mpg, displacement and weight as X\n",
        "\n",
        "X = df_new[['mpg', 'displacement','weight']]\n",
        "\n",
        "# Set acceleration as the target \n",
        "\n",
        "y = df_new['acceleration'] "
      ],
      "metadata": {
        "id": "qiRYTcu11ue7"
      },
      "execution_count": 23,
      "outputs": []
    },
    {
      "cell_type": "code",
      "source": [
        "# Import the preprocesser MinMaxScaler\n",
        "\n",
        "from sklearn.preprocessing import MinMaxScaler\n",
        "\n",
        "# Set MinMaxScaler as the scaler and transform X\n",
        "X_new=MinMaxScaler().fit_transform(X)\n",
        "\n",
        "# Inspect the array of the transformed values. \n",
        "print(X_new)"
      ],
      "metadata": {
        "id": "MbZeAa1u1zSQ",
        "outputId": "a2a68074-e80f-4505-9347-acc5814432f8",
        "colab": {
          "base_uri": "https://localhost:8080/"
        }
      },
      "execution_count": 25,
      "outputs": [
        {
          "output_type": "stream",
          "name": "stdout",
          "text": [
            "[[0.2393617  0.61757106 0.5361497 ]\n",
            " [0.15957447 0.72868217 0.58973632]\n",
            " [0.2393617  0.64599483 0.51686986]\n",
            " ...\n",
            " [0.61170213 0.17312661 0.19336547]\n",
            " [0.50531915 0.13436693 0.2869294 ]\n",
            " [0.58510638 0.13178295 0.31386447]]\n"
          ]
        }
      ]
    },
    {
      "cell_type": "markdown",
      "source": [
        "Question 3: What are the values of the first sample of X (d.p. 2)\n",
        "\n",
        "(Hint: The first sample of X is the first row or the first value of each column)\n"
      ],
      "metadata": {
        "id": "DIUZTXe513OT"
      }
    },
    {
      "cell_type": "code",
      "source": [
        "# Import the preprocesser StandardScaler\n",
        "\n",
        "from sklearn.preprocessing import StandardScaler\n",
        "# Use StandardScaler to transform X\n",
        "X_new = StandardScaler().fit_transform(X)\n",
        "\n",
        "# Inspect the array of the transformed values. \n",
        "print(X_new)"
      ],
      "metadata": {
        "id": "T7ehkO5V1-Cx",
        "outputId": "f77020a0-3a55-4472-f812-f8c9ed2ec788",
        "colab": {
          "base_uri": "https://localhost:8080/"
        }
      },
      "execution_count": 26,
      "outputs": [
        {
          "output_type": "stream",
          "name": "stdout",
          "text": [
            "[[-0.7064387   1.0906037   0.63086987]\n",
            " [-1.09075062  1.5035143   0.85433297]\n",
            " [-0.7064387   1.19623199  0.55047045]\n",
            " ...\n",
            " [ 1.08701694 -0.56103873 -0.79858454]\n",
            " [ 0.57460104 -0.70507731 -0.40841088]\n",
            " [ 0.95891297 -0.71467988 -0.29608816]]\n"
          ]
        }
      ]
    },
    {
      "cell_type": "markdown",
      "source": [
        "Question 4: What are the values of the first sample of X? (d.p. 2)\n",
        "\n",
        "(Hint: The first sample of X is the first row or the first value of each column)"
      ],
      "metadata": {
        "id": "bRRXLBd-2Kvj"
      }
    },
    {
      "cell_type": "markdown",
      "source": [
        "Quesiton 5: which of the following statements is true?"
      ],
      "metadata": {
        "id": "ybSivuA42cme"
      }
    },
    {
      "cell_type": "code",
      "source": [
        "# Now set traing and testing sets with a test size of 0.20 and random state = 2\n",
        "\n"
      ],
      "metadata": {
        "id": "ZkIu_zEV2ZEX"
      },
      "execution_count": null,
      "outputs": []
    },
    {
      "cell_type": "markdown",
      "source": [
        "Question 6: How many samples are in X_test?"
      ],
      "metadata": {
        "id": "3kxfwaVM2mMz"
      }
    },
    {
      "cell_type": "code",
      "source": [
        "# Create two pipelines:\n",
        "\n",
        "# (1) preprocessing using Quantile Transformer (set number of quantiles to = 4)\n",
        "# and model using linear regression \n",
        "\n",
        "# (2) preprocessing using MinMaxScaler, and model using linear regression\n",
        "\n",
        "\n",
        "\n",
        "\n",
        "\n",
        "# After setting the pipelines, fit and predict the Pipleine the uses Quantile Trans \n",
        "# only using X_train and y_train\n",
        "\n",
        "\n",
        "# Calcuate the mean_sqaured_error, all parameters are set to default\n",
        "\n",
        "from sklearn.metrics import mean_squared_error\n"
      ],
      "metadata": {
        "id": "stctlKD52o21"
      },
      "execution_count": null,
      "outputs": []
    },
    {
      "cell_type": "markdown",
      "source": [
        "Question 7: In pipeline 1 (Quantile Transfomer) what is the Mean Squared Error? \n"
      ],
      "metadata": {
        "id": "08bnx-6r3Fnc"
      }
    },
    {
      "cell_type": "code",
      "source": [
        "# Fit and predict the Pipleine of MinMaxScaler\n",
        "# only using X_train and y_train\n",
        "\n",
        "\n",
        "\n",
        "# Calcuate the mean_sqaured_error, all parameters are set to default\n",
        "\n",
        "from sklearn.metrics import mean_squared_error"
      ],
      "metadata": {
        "id": "YIgsYNfA3ISi"
      },
      "execution_count": null,
      "outputs": []
    },
    {
      "cell_type": "markdown",
      "source": [
        "Question 8: In pipeline 2 (MinMaxSacler) what is Mean Squared Error? "
      ],
      "metadata": {
        "id": "NhpUJQbf3VuA"
      }
    },
    {
      "cell_type": "code",
      "source": [
        "# Based on that results, use the best model and now predict X_test\n",
        "\n",
        "mm_results_test = mm_pipeline.fit(X_train, y_train).predict(X_test)\n",
        "\n",
        "mm_results_test\n",
        "\n",
        "# Calcuate the R2 metric, all parameters are set to default\n"
      ],
      "metadata": {
        "id": "RWd5aZew3azF"
      },
      "execution_count": null,
      "outputs": []
    },
    {
      "cell_type": "markdown",
      "source": [
        "Question 9: What is the value of the R2 when predicting X_test? (d.p. 2)"
      ],
      "metadata": {
        "id": "4MsIcHOp3kMU"
      }
    },
    {
      "cell_type": "markdown",
      "source": [
        "Question 10: How would you interpret the results of R2?"
      ],
      "metadata": {
        "id": "fgpA5zaC3mZr"
      }
    }
  ]
}