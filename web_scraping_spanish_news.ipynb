{
  "nbformat": 4,
  "nbformat_minor": 0,
  "metadata": {
    "colab": {
      "provenance": [],
      "authorship_tag": "ABX9TyP65f8NHqgxpZQFk/4Eabfk",
      "include_colab_link": true
    },
    "kernelspec": {
      "name": "python3",
      "display_name": "Python 3"
    },
    "language_info": {
      "name": "python"
    }
  },
  "cells": [
    {
      "cell_type": "markdown",
      "metadata": {
        "id": "view-in-github",
        "colab_type": "text"
      },
      "source": [
        "<a href=\"https://colab.research.google.com/github/MariaFernandaOrtega/ML-Project/blob/main/web_scraping_spanish_news.ipynb\" target=\"_parent\"><img src=\"https://colab.research.google.com/assets/colab-badge.svg\" alt=\"Open In Colab\"/></a>"
      ]
    },
    {
      "cell_type": "code",
      "execution_count": null,
      "metadata": {
        "id": "AWOhma8y2ECR"
      },
      "outputs": [],
      "source": [
        "from bs4 import BeautifulSoup\n",
        "import requests\n",
        "url = \"https://www.milenio.com/politica\"\n",
        "res = requests.get(url)\n",
        "soup = BeautifulSoup(res.text)"
      ]
    },
    {
      "cell_type": "code",
      "source": [
        "titles = soup.select(\".board-module__a\")\n",
        "print(titles)"
      ],
      "metadata": {
        "colab": {
          "base_uri": "https://localhost:8080/"
        },
        "id": "Nm6SCObr4eso",
        "outputId": "15e51049-1bdd-44c2-94e2-e69fae38b606"
      },
      "execution_count": null,
      "outputs": [
        {
          "output_type": "stream",
          "name": "stdout",
          "text": [
            "[<a class=\"board-module__a\" data-camus-title=\"\" href=\"/politica/amlo-temas-conferencia-mananera-23-noviembre-2022\">La Mañanera de AMLO. Los temas del 23 de noviembre</a>, <a class=\"board-module__a\" data-camus-title=\"\" href=\"/politica/amlo-enviara-reforma-electoral-camara-diputados-estos-dias\">AMLO enviará \"en estos días\" reforma electoral a Cámara de Diputados</a>, <a class=\"board-module__a\" data-camus-title=\"\" href=\"/politica/quienes-estan-contra-reforma-electoral-repudian-al-pueblo-vizcaino\">Quienes están contra reforma electoral repudian al pueblo:Indira Vizcaíno</a>, <a class=\"board-module__a\" data-camus-title=\"\" href=\"/politica/amlo-convoca-marcha-desfile-acarreo-celebrar-4t\">AMLO convoca a marcha, desfile o acarreo para celebrar la 4T</a>, <a class=\"board-module__a\" data-camus-title=\"\" href=\"/politica/amlo-advierte-que-marcha-del-domingo-podria-ser-la-ultima\">Marcha del domingo puede ser la última a la que asista, dice AMLO</a>, <a class=\"board-module__a\" data-camus-title=\"\" href=\"/politica/marcha-defender-ine-robo-carteras-amlo\">En la marcha en defensa del INE “hubo mucho robo de carteras”, bromea AMLO</a>, <a class=\"board-module__a\" data-camus-title=\"\" href=\"/politica/cofepris-endurece-control-precursores-quimicos-mexico\">Cofepris endurece control de precursores químicos</a>, <a class=\"board-module__a\" data-camus-title=\"\" href=\"/politica/inseguridad-colima-alza-cantidad-poblacion-semar\">Inseguridad en Colima es por cantidad de población: Semar</a>, <a class=\"board-module__a\" data-camus-title=\"\" href=\"/politica/gabriel-boric-presidente-chile-reune-amlo\">AMLO se reúne con Gabriel Boric, presidente de Chile</a>, <a class=\"board-module__a\" data-camus-text-limit=\"70\" data-camus-title=\"\" href=\"/policia/ricardo-monreal-denuncia-a-layda-sansores\">Ricardo Monreal denuncia a Layda Sansores</a>, <a class=\"board-module__a\" data-camus-text-limit=\"70\" data-camus-title=\"\" href=\"/politica/tribunal-ordena-layda-sansores-disculparse-diputadas-extorsionarlas\">Tribunal ordena a Layda disculparse con diputadas del PRI</a>, <a class=\"board-module__a\" data-camus-text-limit=\"70\" data-camus-title=\"\" href=\"/politica/comunidad/sistema-migracion-aicm-fallo-robo-cable-inm\">Sistema de migración del AICM falló por intento de robo: INM</a>, <a class=\"board-module__a\" data-camus-text-limit=\"70\" data-camus-title=\"\" href=\"/politica/grupo-elite-sedena-auxilio-102-ataques-crimen\">Grupo élite de Sedena auxilió a estados en 102 ataques</a>, <a class=\"board-module__a\" data-camus-text-limit=\"70\" data-camus-title=\"\" href=\"/politica/ine-niega-medidas-cautelares-diputada-mc-violencia\">INE niega medidas cautelares a diputada de MC</a>, <a class=\"board-module__a\" data-camus-text-limit=\"70\" data-camus-title=\"\" href=\"/politica/senadores-4t-invitan-ciudadanos-participar-marcha\">Senadores de la 4T invitan a ciudadanos a participar en marcha</a>, <a class=\"board-module__a\" data-camus-title=\"\" href=\"/politica/politicos-que-asistiran-a-la-marcha-de-amlo-el-27-de-noviembre\">De Sheinbaum a Mario Delgado: políticos que asistirán a la marcha de AMLO</a>, <a class=\"board-module__a\" data-camus-title=\"\" href=\"/politica/marcha-de-amlo-dia-hora-lugar-y-todo-lo-que-debes-saber\">¿Por qué AMLO convoca a una marcha? Este y otros datos que debes de saber</a>, <a class=\"board-module__a\" data-camus-title=\"\" href=\"/politica/las-marchas-de-amlo-a-traves-de-los-anos\">Éxodos y campamentos: Así han sido las marchas de AMLO a través de los años</a>, <a class=\"board-module__a\" data-camus-title=\"\" href=\"/politica/amlo-anuncia-marcha-previo-cuarto-informe-gobierno-cdmx\">AMLO encabezará marcha del Ángel al Zócalo de CdMx previo a informe de gobierno</a>, <a class=\"board-module__a\" data-camus-title=\"\" href=\"/politica/mario-delgado-pide-dejar-amlo-marcha-27-noviembre\">Mario Delgado pide no dejar solo a AMLO en marcha del 27 de noviembre</a>, <a class=\"board-module__a\" data-camus-title=\"\" href=\"/politica/julieta-ramirez-quien-es-la-diputada-federal-de-morena\">Mujeres en política “ahí vamos”; falta en academia y sector empresarial: diputada Julieta Ramírez</a>, <a class=\"board-module__a\" data-camus-title=\"\" href=\"/politica/carla-humphrey-jordan-consejera-electoral-ine\">\"Nunca hay que decir nunca\": Carla Humprey no descarta interés en asumir cargos públicos</a>, <a class=\"board-module__a\" data-camus-title=\"\" href=\"/politica/kenia-lopez-rabadan-quien-es-la-senadora-del-pan\">México llegó muy tarde para reconocer los derechos de las mujeres: Kenia López</a>, <a class=\"board-module__a\" data-camus-title=\"\" href=\"/politica/salma-luevano-quien-es-la-diputada-trans-de-morena\">Salma Luévano, la diputada trans que a “golpe de sentencia” está tomando la política</a>, <a class=\"board-module__a\" data-camus-title=\"\" href=\"/politica/dulce-maria-sauri-presidenta-camara-diputados_2\">Ser mujer fue la razón para que el PRI no se fracturara: Dulce María Sauri; “primera guerra contra patriarcado ya se ganó”</a>, <a class=\"board-module__a\" data-camus-title=\"\" href=\"/politica/karla-ayala-diputada-federal-pri-joven\">En la escuela nunca me he encontrado con el machismo, pero en redes sí: Karla Ayala</a>, <a class=\"board-module__a\" data-camus-title=\"\" href=\"/politica/ivonne-ortega-quien-es-diputada-federal-movimiento-ciudadano\">Por un problema de drenaje entré a la política y terminé la prepa siendo diputada: Ivonne Ortega</a>, <a class=\"board-module__a\" data-camus-title=\"\" href=\"/politica/paulina-chavira-biografia-fundadora-the-new-york-times-espanol\">“Estamos cambiando el lenguaje para quitarle el patriarcado”: Paulina Chavira, de Twitter a un medio internacional</a>, <a class=\"board-module__a\" data-camus-title=\"\" href=\"/politica/margarita-guille-directora-red-interamericana-refugios-entrevista\">Margarita Guillé, la fundadora del primer refugio para mujeres en México</a>, <a class=\"board-module__a\" data-camus-title=\"\" href=\"/politica/dania-ravel-quien-es-la-consejera-del-ine-perfil\">Muchas mujeres hemos sido feministas antes de reconocernos como tal: Dania Ravel</a>, <a class=\"board-module__a\" data-camus-title=\"\" href=\"/politica/quien-es-tania-larios-biografia-y-curriculum\">Yo sueño con que las mujeres nunca se rindan; estamos hechas para todo: Tania Larios</a>, <a class=\"board-module__a\" data-camus-title=\"\" href=\"/politica/jacqueline-l-hoist-quien-es-la-fundadora-de-copred-y-activista\">Aún no le ganamos al machismo, pero sí le hemos arrebatado un buen de terreno: L’Hoist</a>, <a class=\"board-module__a\" data-camus-title=\"\" href=\"/politica/neoliberalismo-que-es-caracteristicas-y-origenes\">¿Modelo económico privatizador? Esto es el neoliberalismo, según académicos</a>, <a class=\"board-module__a\" data-camus-title=\"\" href=\"/politica/consejo-de-la-judicatura-federal-que-es-y-cuales-son-sus-funciones\">Designar y remover a jueces y magistrados: esto hace el Consejo de la Judicatura Federal</a>, <a class=\"board-module__a\" data-camus-title=\"\" href=\"/politica/partidos-politicos-que-perdieron-su-registro-en-mexico\">Desde el PDM hasta el PES: estos son los partidos políticos que ya perdieron su registro</a>, <a class=\"board-module__a\" data-camus-title=\"\" href=\"/politica/acuerdo-y-decreto-cuales-son-las-diferencias-entre-ellos\">¿Orden o resolución? Éstas son las diferencias entre un acuerdo y un decreto</a>, <a class=\"board-module__a\" data-camus-title=\"\" href=\"/politica/ley-de-seguridad-nacional-en-mexico-que-es-y-en-que-consiste\">Proteger al Estado y su soberanía: esto es un asunto de Seguridad Nacional</a>, <a class=\"board-module__a\" data-camus-title=\"\" href=\"/politica/desafuero-politico-en-mexico-que-es-significado\">¿Juicio político por fraude o conspiración? De esto se trata el desafuero</a>, <a class=\"board-module__a\" data-camus-title=\"\" href=\"/politica/clase-media-en-mexico-que-es-y-quienes-la-conforman\">Con computadora, tarjeta de crédito y casa propia: así se define la clase media</a>, <a class=\"board-module__a\" data-camus-title=\"\" href=\"/politica/tipos-de-mayoria-en-la-camara-de-diputados-cuales-son\">Mayoría absoluta, simple o calificada: los tipos de votación en San Lázaro</a>, <a class=\"board-module__a\" data-camus-title=\"\" href=\"/politica/impugnacion-en-materia-electoral-que-es-y-como-realizarla\">¿Qué es una impugnación en materia electoral y cómo presentar una?</a>, <a class=\"board-module__a\" data-camus-title=\"\" href=\"/politica/ley-outsourcing-2021-mexico-cambios-trabajadores\">Más utilidades y multas severas: los cambios tras la reforma al outsourcing</a>, <a class=\"board-module__a\" data-camus-title=\"\" href=\"/politica/actos-anticipados-de-campana-que-son\">¿Qué son los actos anticipados de campaña? Aquí te contamos</a>, <a class=\"board-module__a\" data-camus-title=\"\" href=\"/politica/elecciones-2021/veda-electoral-que-es-y-significado\">Sin actos de campaña ni difusión de encuestas: esto es la veda electoral</a>, <a class=\"board-module__a\" data-camus-title=\"\" href=\"/politica/chapulineo-politico-de-diputados-y-senadores-que-es\">¿Préstamo de legisladores? De esto se trata el 'chapulineo'</a>, <a class=\"board-module__a\" data-camus-title=\"\" href=\"/politica/izquierda-derecha-politica-origen-terminos-significado\">¿Qué significa ser de izquierda o derecha en la política?</a>, <a class=\"board-module__a\" data-camus-title=\"\" href=\"/politica/que-son-los-diputados-y-senadores-plurinominales-y-como-se-eligen\">¿Qué son y cómo se eligen a los diputados y senadores plurinominales?</a>, <a class=\"board-module__a\" data-camus-title=\"\" href=\"/politica/enrique-de-la-madrid-a-que-se-dedica-el-ex-secretario-de-turismo\">Enrique de la Madrid, de secretario de Turismo a aspirante presidencial</a>, <a class=\"board-module__a\" data-camus-title=\"\" href=\"/politica/arturo-nunez-jimenez-dedica-gobernador-tabasco\">Arturo Núñez Jiménez, de gobernador de Tabasco a comentarista de temas políticos</a>, <a class=\"board-module__a\" data-camus-title=\"\" href=\"/politica/vicente-fox-a-que-se-dedica-el-ex-presidente-de-mexico\">Comediante, promotor de mariguana y ¿cantante? A esto se dedica Vicente Fox</a>, <a class=\"board-module__a\" data-camus-title=\"\" href=\"/politica/antonio-lozano-a-que-se-dedica-ahora-el-ex-procurador\">Antonio Lozano, de procurador General de la República a abogado independiente</a>, <a class=\"board-module__a\" data-camus-title=\"\" href=\"/politica/carmen-salinas-de-actriz-a-diputada\">Carmen Salinas, de diputada a empresaria</a>, <a class=\"board-module__a\" data-camus-title=\"\" href=\"/politica/cesar-camacho-quiroz-dedica-presidente-pri\">César Camacho Quiroz, de ex dirigente del PRI a director de escuela en el Edomex</a>, <a class=\"board-module__a\" data-camus-title=\"\" href=\"/politica/ernesto-zedillo-a-que-se-dedica-expresidente-de-mexico\">Ernesto Zedillo, de presidente de México a académico de la Universidad de Yale</a>, <a class=\"board-module__a\" data-camus-title=\"\" href=\"/politica/aristoteles-nunez-a-que-se-dedica-el-ex-jefe-del-sat\">Aristóteles Núñez, de ex jefe del SAT a consultor independiente</a>, <a class=\"board-module__a\" data-camus-title=\"\" href=\"/politica/francisco-labastida-que-fue-del-ex-candidato-presidencial-del-pri\">Francisco Labastida, de ex candidato presidencial a crítico de Peña Nieto</a>, <a class=\"board-module__a\" data-camus-title=\"\" href=\"/politica/purificacion-carpinteyro-que-fue-de-ex-candidata-cdmx\">Purificación Carpinteyro, de ex candidata a la CdMx a directora de empresa mexicana</a>, <a class=\"board-module__a\" data-camus-title=\"\" href=\"/politica/jose-antonio-meade-a-que-se-dedica-ahora-el-ex-candidato\">José Antonio Meade, de ex candidato presidencial a conferencista y asesor financiero</a>, <a class=\"board-module__a\" data-camus-title=\"\" href=\"/opinion/carlos-marin/el-asalto-la-razon/no-se-atreven-a-satanizar-a-milanes\">No se atreven a satanizar a Milanés</a>, <a class=\"board-module__a\" data-camus-title=\"\" href=\"/opinion/hector-aguilar-camin/dia-con-dia/politica-y-futbol\">Política y futbol</a>, <a class=\"board-module__a\" data-camus-title=\"\" href=\"/opinion/patricia-armendariz/consciencia/salvaguardando-la-imparcialidad-del-ine\">Salvaguardando la imparcialidad del INE</a>, <a class=\"board-module__a\" data-camus-title=\"\" href=\"/opinion/carlos-puig/duda-razonable/monreal-el-ejercito-y-morena\">Monreal, el Ejército y Morena</a>, <a class=\"board-module__a\" data-camus-title=\"\" href=\"/opinion/epigmenio-ibarra/itinerarios/por-mis-hijas-y-mis-hijos-por-mis-nietos\">Por mis hijas y mis hijos. Por mis nietos</a>, <a class=\"board-module__a\" data-camus-title=\"\" href=\"/opinion/joaquin-lopez-doriga/en-privado/es-por-biden-no-por-el\">Es por Biden, no por él</a>, <a class=\"board-module__a\" data-camus-title=\"\" href=\"/opinion/editoriales/trascendio-nacional/trascendio_1565\">Trascendió</a>, <a class=\"board-module__a\" data-camus-title=\"\" href=\"/opinion/gil-games/uno-hasta-el-fondo/el-ahuehuete-ha-muerto\">El ahuehuete ha muerto</a>, <a class=\"board-module__a\" data-camus-title=\"\" href=\"/politica/juguetes-sexuales-mochilas-objetos-perdidos-aicm\">Desde juguetes sexuales hasta mochilas, los objetos perdidos en el AICM y AIFA</a>, <a class=\"board-module__a\" data-camus-text-limit=\"70\" data-camus-title=\"\" href=\"/politica/mario-delgado-llama-morenistas-acudir-marcha-amlo\">Delgado llama a acudir a la marcha de AMLO</a>, <a class=\"board-module__a\" data-camus-text-limit=\"70\" data-camus-title=\"\" href=\"/politica/lilly-tellez-comparte-datos-contacto-comunicarse\">Lilly Téllez comparte 'whats' y correos para contactarla</a>, <a class=\"board-module__a\" data-camus-text-limit=\"70\" data-camus-title=\"\" href=\"/politica/cumbre-de-presidentes-de-la-alianza-del-pacifico-se-pospone\">Cumbre de la Alianza del Pacífico se pospone</a>, <a class=\"board-module__a\" data-camus-text-limit=\"70\" data-camus-title=\"\" href=\"/politica/mexico-350-mil-ninos-padres-recluidos-ceresos-sipinna\">En México hay 350 mil niños con padres recluidos en Ceresos</a>, <a class=\"board-module__a\" data-camus-text-limit=\"70\" data-camus-title=\"\" href=\"/politica/pan-pri-prd-san-lazaro-reactivan-alianza-mexico\">PAN, PRI y PRD en San Lázaro reactivan Va por México</a>, <a class=\"board-module__a\" data-camus-text-limit=\"70\" data-camus-title=\"\" href=\"/politica/senadores-organizan-baile-tras-reconocer-a-compositores\">Senadores organizan baile en antigua sede legislativa</a>, <a class=\"board-module__a\" data-camus-title=\"\" href=\"/politica/suspension-clases-en-noviembre-entrega-de-boletas-sep-2022\">Revisa cuándo entregarán boletas y suspenderán clases en noviembre</a>, <a class=\"board-module__a\" data-camus-title=\"\" href=\"/politica/inseguridad-colima-alza-cantidad-poblacion-semar\">Inseguridad en Colima es por cantidad de población: Semar</a>, <a class=\"board-module__a\" data-camus-title=\"\" href=\"/politica/ine-niega-medidas-cautelares-diputada-mc-violencia\">INE niega medidas cautelares a diputada de MC por violencia política de género</a>, <a class=\"board-module__a\" data-camus-title=\"\" href=\"/politica/senadores-4t-invitan-ciudadanos-participar-marcha\">Senadores de la 4T invitan a ciudadanos a participar en la marcha del próximo domingo</a>, <a class=\"board-module__a\" data-camus-title=\"\" href=\"/politica/tepjf-instruye-camara-diputados-atender-pleito-diputadas\">Tribunal Electoral instruye a Diputados atender pleito entre Castell y Clemente Moreno</a>, <a class=\"board-module__a\" data-camus-title=\"\" href=\"/politica/tribunal-ordena-layda-sansores-disculparse-diputadas-extorsionarlas\">Tribunal ordena a Layda Sansores disculparse con diputadas del PRI por extorsionarlas con foto...</a>, <a class=\"board-module__a\" data-camus-title=\"\" href=\"/politica/gabriel-boric-presidente-chile-reune-amlo\">AMLO se reúne con Gabriel Boric, presidente de Chile</a>, <a class=\"board-module__a\" data-camus-title=\"\" href=\"/politica/sheinbaum-violo-ley-apoyar-villarreal-tamaulipas-tepjf\">Sheinbaum violó la ley al apoyar a Américo Villarreal en contienda por Tamaulipas: TEPJF</a>, <a class=\"board-module__a\" data-camus-title=\"\" href=\"/politica/morena-presenta-dictamen-reforma-electoral-diputados\">En San Lázaro, presentan dictamen en reforma electoral; va Morena contra INE</a>, <a class=\"board-module__a\" data-camus-title=\"\" href=\"/politica/monreal-autoritarismo-esta-cerca-cuando-gobernante-se-aleja-de-la-ley\">Nos acercamos al autoritarismo cuando un gobernante se aleja de la ley: Monreal</a>, <a class=\"board-module__a\" data-camus-title=\"\" href=\"/politica/amlo-presume-mil-reuniones-gabinete-seguridad\">AMLO presume mil reuniones de gabinete de seguridad “para garantizar la paz”</a>, <a class=\"board-module__a\" data-camus-title=\"\" href=\"/politica/semar-el-enemigo-a-derrotar-es-la-corrupcion-y-la-injusticia\">El enemigo a derrotar es la corrupción y la injusticia: Semar</a>, <a class=\"board-module__a\" data-camus-title=\"\" href=\"/politica/cofepris-endurece-control-precursores-quimicos-mexico\">Cofepris endurece control de precursores químicos</a>, <a class=\"board-module__a\" data-camus-title=\"\" href=\"/politica/marcha-defender-ine-robo-carteras-amlo\">En la marcha en defensa del INE “hubo mucho robo de carteras”, bromea AMLO</a>, <a class=\"board-module__a\" data-camus-title=\"\" href=\"/politica/amlo-convoca-marcha-desfile-acarreo-celebrar-4t\">“Llámenle como quieran”: AMLO convoca a marcha, desfile o acarreo para celebrar la 4T</a>, <a class=\"board-module__a\" data-camus-title=\"\" href=\"/politica/oxxo-amlo-revelo-dueno-pago-13-mil-mdp-deuda-impuestos\">AMLO reveló que dueño de OXXO pagó hasta 13 mil mdp que debía en impuestos</a>, <a class=\"board-module__a\" data-camus-title=\"\" href=\"/politica/amlo-advierte-que-marcha-del-domingo-podria-ser-la-ultima\">Marcha del domingo puede ser la última a la que asista, dice AMLO</a>, <a class=\"board-module__a\" data-camus-title=\"\" href=\"/politica/quienes-estan-contra-reforma-electoral-repudian-al-pueblo-vizcaino\">Quienes están contra reforma electoral repudian al pueblo: gobernadora de Colima</a>, <a class=\"board-module__a\" data-camus-title=\"\" href=\"/politica/amlo-enviara-reforma-electoral-camara-diputados-estos-dias\">AMLO enviará \"en estos días\" reforma electoral a Cámara de Diputados</a>, <a class=\"board-module__a\" data-camus-title=\"\" href=\"/politica/suspension-clases-en-noviembre-entrega-de-boletas-sep-2022\">¿Hay clases este viernes 25 de noviembre? Esto dice la SEP</a>, <a class=\"board-module__a\" data-camus-title=\"\" href=\"/politica/desahogaran-juicios-gertz-cordova-casos-rezagados\">Desahogarán juicios políticos contra Gertz y Córdova tras casos rezagados de 2003 a 2021</a>, <a class=\"board-module__a\" data-camus-title=\"\" href=\"/politica/grupo-elite-sedena-auxilio-102-ataques-crimen\">Grupo élite de Sedena auxilió a estados en 102 ataques del crimen</a>, <a class=\"board-module__a\" data-camus-title=\"\" href=\"/politica/morena-busca-ahorro-700-mdp-reubicacion-modulos-ine\">Busca Morena ahorro de 700 mdp con reubicación de módulos de INE en escuelas</a>, <a class=\"board-module__a\" data-camus-title=\"\" href=\"/politica/revancha-politica-detencion-fiscal-anticorupcion-corral\">“Es revancha política”, dice Corral tras detención de ex fiscal anticorrupción</a>, <a class=\"board-module__a\" data-camus-title=\"\" href=\"/politica/monreal-rechaza-caballo-troya-oposicion-2024\">Monreal rechaza ser ‘caballo de Troya’ de la oposición para 2024</a>, <a class=\"board-module__a\" data-camus-title=\"\" href=\"/politica/el-ultimo-semestre-hubo-un-incremento-en-inversiones-extranjeras\">Presume CdMx recepción de inversión extranjera directa</a>, <a class=\"board-module__a\" data-camus-title=\"\" href=\"/politica/jorge-romero-no-estamos-en-tiempo-a-una-reforma-electoral\">“Ya no estamos en tiempo de una reforma electoral”, advierte diputado del PAN</a>, <a class=\"board-module__a\" data-camus-title=\"\" href=\"/politica/gabriel-boric-presidente-cuba-llega-mexico\">Gabriel Boric, presidente de Chile, llega a México</a>, <a class=\"board-module__a\" data-camus-title=\"\" href=\"/politica/senado-presentara-proyecto-eleccion-extraordinaria-tamaulipas\">Senado presentará proyecto de decreto para elección extraordinaria en Tamaulipas</a>, <a class=\"board-module__a\" data-camus-title=\"\" href=\"/politica/ley-fortalecer-imss-bienestar-avanza-camara-diputados\">Avanza en San Lázaro ley para fortalecer al IMSS Bienestar</a>, <a class=\"board-module__a\" data-camus-title=\"\" href=\"/politica/casos-meningitis-aseptica-durando-siguen-esclarecerse-imss\">Casos de meningitis aséptica en Durango siguen sin esclarecerse: IMSS</a>]\n"
          ]
        }
      ]
    },
    {
      "cell_type": "code",
      "source": [
        "news_titles = [title.text for title in titles]\n",
        "news_titles"
      ],
      "metadata": {
        "colab": {
          "base_uri": "https://localhost:8080/"
        },
        "id": "kpvZpW6A7tf3",
        "outputId": "49babf9c-0f19-42ef-ebd3-12fd8deb9388"
      },
      "execution_count": null,
      "outputs": [
        {
          "output_type": "execute_result",
          "data": {
            "text/plain": [
              "['La Mañanera de AMLO. Los temas del 23 de noviembre',\n",
              " 'AMLO enviará \"en estos días\" reforma electoral a Cámara de Diputados',\n",
              " 'Quienes están contra reforma electoral repudian al pueblo:Indira Vizcaíno',\n",
              " 'AMLO convoca a marcha, desfile o acarreo para celebrar la 4T',\n",
              " 'Marcha del domingo puede ser la última a la que asista, dice AMLO',\n",
              " 'En la marcha en defensa del INE “hubo mucho robo de carteras”, bromea AMLO',\n",
              " 'Cofepris endurece control de precursores químicos',\n",
              " 'Inseguridad en Colima es por cantidad de población: Semar',\n",
              " 'AMLO se reúne con Gabriel Boric, presidente de Chile',\n",
              " 'Ricardo Monreal denuncia a Layda Sansores',\n",
              " 'Tribunal ordena a Layda disculparse con diputadas del PRI',\n",
              " 'Sistema de migración del AICM falló por intento de robo: INM',\n",
              " 'Grupo élite de Sedena auxilió a estados en 102 ataques',\n",
              " 'INE niega medidas cautelares a diputada de MC',\n",
              " 'Senadores de la 4T invitan a ciudadanos a participar en marcha',\n",
              " 'De Sheinbaum a Mario Delgado: políticos que asistirán a la marcha de AMLO',\n",
              " '¿Por qué AMLO convoca a una marcha? Este y otros datos que debes de saber',\n",
              " 'Éxodos y campamentos: Así han sido las marchas de AMLO a través de los años',\n",
              " 'AMLO encabezará marcha del Ángel al Zócalo de CdMx previo a informe de gobierno',\n",
              " 'Mario Delgado pide no dejar solo a AMLO en marcha del 27 de noviembre',\n",
              " 'Mujeres en política “ahí vamos”; falta en academia y sector empresarial: diputada Julieta Ramírez',\n",
              " '\"Nunca hay que decir nunca\": Carla Humprey no descarta interés en asumir cargos públicos',\n",
              " 'México llegó muy tarde para reconocer los derechos de las mujeres: Kenia López',\n",
              " 'Salma Luévano, la diputada trans que a “golpe de sentencia” está tomando la política',\n",
              " 'Ser mujer fue la razón para que el PRI no se fracturara: Dulce María Sauri; “primera guerra contra patriarcado ya se ganó”',\n",
              " 'En la escuela nunca me he encontrado con el machismo, pero en redes sí: Karla Ayala',\n",
              " 'Por un problema de drenaje entré a la política y terminé la prepa siendo diputada: Ivonne Ortega',\n",
              " '“Estamos cambiando el lenguaje para quitarle el patriarcado”: Paulina Chavira, de Twitter a un medio internacional',\n",
              " 'Margarita Guillé, la fundadora del primer refugio para mujeres en México',\n",
              " 'Muchas mujeres hemos sido feministas antes de reconocernos como tal: Dania Ravel',\n",
              " 'Yo sueño con que las mujeres nunca se rindan; estamos hechas para todo: Tania Larios',\n",
              " 'Aún no le ganamos al machismo, pero sí le hemos arrebatado un buen de terreno: L’Hoist',\n",
              " '¿Modelo económico privatizador? Esto es el neoliberalismo, según académicos',\n",
              " 'Designar y remover a jueces y magistrados: esto hace el Consejo de la Judicatura Federal',\n",
              " 'Desde el PDM hasta el PES: estos son los partidos políticos que ya perdieron su registro',\n",
              " '¿Orden o resolución? Éstas son las diferencias entre un acuerdo y un decreto',\n",
              " 'Proteger al Estado y su soberanía: esto es un asunto de Seguridad Nacional',\n",
              " '¿Juicio político por fraude o conspiración? De esto se trata el desafuero',\n",
              " 'Con computadora, tarjeta de crédito y casa propia: así se define la clase media',\n",
              " 'Mayoría absoluta, simple o calificada: los tipos de votación en San Lázaro',\n",
              " '¿Qué es una impugnación en materia electoral y cómo presentar una?',\n",
              " 'Más utilidades y multas severas: los cambios tras la reforma al outsourcing',\n",
              " '¿Qué son los actos anticipados de campaña? Aquí te contamos',\n",
              " 'Sin actos de campaña ni difusión de encuestas: esto es la veda electoral',\n",
              " \"¿Préstamo de legisladores? De esto se trata el 'chapulineo'\",\n",
              " '¿Qué significa ser de izquierda o derecha en la política?',\n",
              " '¿Qué son y cómo se eligen a los diputados y senadores plurinominales?',\n",
              " 'Enrique de la Madrid, de secretario de Turismo a aspirante presidencial',\n",
              " 'Arturo Núñez Jiménez, de gobernador de Tabasco a comentarista de temas políticos',\n",
              " 'Comediante, promotor de mariguana y ¿cantante? A esto se dedica Vicente Fox',\n",
              " 'Antonio Lozano, de procurador General de la República a abogado independiente',\n",
              " 'Carmen Salinas, de diputada a empresaria',\n",
              " 'César Camacho Quiroz, de ex dirigente del PRI a director de escuela en el Edomex',\n",
              " 'Ernesto Zedillo, de presidente de México a académico de la Universidad de Yale',\n",
              " 'Aristóteles Núñez, de ex jefe del SAT a consultor independiente',\n",
              " 'Francisco Labastida, de ex candidato presidencial a crítico de Peña Nieto',\n",
              " 'Purificación Carpinteyro, de ex candidata a la CdMx a directora de empresa mexicana',\n",
              " 'José Antonio Meade, de ex candidato presidencial a conferencista y asesor financiero',\n",
              " 'No se atreven a satanizar a Milanés',\n",
              " 'Política y futbol',\n",
              " 'Salvaguardando la imparcialidad del INE',\n",
              " 'Monreal, el Ejército y Morena',\n",
              " 'Por mis hijas y mis hijos. Por mis nietos',\n",
              " 'Es por Biden, no por él',\n",
              " 'Trascendió',\n",
              " 'El ahuehuete ha muerto',\n",
              " 'Desde juguetes sexuales hasta mochilas, los objetos perdidos en el AICM y AIFA',\n",
              " 'Delgado llama a acudir a la marcha de AMLO',\n",
              " \"Lilly Téllez comparte 'whats' y correos para contactarla\",\n",
              " 'Cumbre de la Alianza del Pacífico se pospone',\n",
              " 'En México hay 350 mil niños con padres recluidos en Ceresos',\n",
              " 'PAN, PRI y PRD en San Lázaro reactivan Va por México',\n",
              " 'Senadores organizan baile en antigua sede legislativa',\n",
              " 'Revisa cuándo entregarán boletas y suspenderán clases en noviembre',\n",
              " 'Inseguridad en Colima es por cantidad de población: Semar',\n",
              " 'INE niega medidas cautelares a diputada de MC por violencia política de género',\n",
              " 'Senadores de la 4T invitan a ciudadanos a participar en la marcha del próximo domingo',\n",
              " 'Tribunal Electoral instruye a Diputados atender pleito entre Castell y Clemente Moreno',\n",
              " 'Tribunal ordena a Layda Sansores disculparse con diputadas del PRI por extorsionarlas con foto...',\n",
              " 'AMLO se reúne con Gabriel Boric, presidente de Chile',\n",
              " 'Sheinbaum violó la ley al apoyar a Américo Villarreal en contienda por Tamaulipas: TEPJF',\n",
              " 'En San Lázaro, presentan dictamen en reforma electoral; va Morena contra INE',\n",
              " 'Nos acercamos al autoritarismo cuando un gobernante se aleja de la ley: Monreal',\n",
              " 'AMLO presume mil reuniones de gabinete de seguridad “para garantizar la paz”',\n",
              " 'El enemigo a derrotar es la corrupción y la injusticia: Semar',\n",
              " 'Cofepris endurece control de precursores químicos',\n",
              " 'En la marcha en defensa del INE “hubo mucho robo de carteras”, bromea AMLO',\n",
              " '“Llámenle como quieran”: AMLO convoca a marcha, desfile o acarreo para celebrar la 4T',\n",
              " 'AMLO reveló que dueño de OXXO pagó hasta 13 mil mdp que debía en impuestos',\n",
              " 'Marcha del domingo puede ser la última a la que asista, dice AMLO',\n",
              " 'Quienes están contra reforma electoral repudian al pueblo: gobernadora de Colima',\n",
              " 'AMLO enviará \"en estos días\" reforma electoral a Cámara de Diputados',\n",
              " '¿Hay clases este viernes 25 de noviembre? Esto dice la SEP',\n",
              " 'Desahogarán juicios políticos contra Gertz y Córdova tras casos rezagados de 2003 a 2021',\n",
              " 'Grupo élite de Sedena auxilió a estados en 102 ataques del crimen',\n",
              " 'Busca Morena ahorro de 700 mdp con reubicación de módulos de INE en escuelas',\n",
              " '“Es revancha política”, dice Corral tras detención de ex fiscal anticorrupción',\n",
              " 'Monreal rechaza ser ‘caballo de Troya’ de la oposición para 2024',\n",
              " 'Presume CdMx recepción de inversión extranjera directa',\n",
              " '“Ya no estamos en tiempo de una reforma electoral”, advierte diputado del PAN',\n",
              " 'Gabriel Boric, presidente de Chile, llega a México',\n",
              " 'Senado presentará proyecto de decreto para elección extraordinaria en Tamaulipas',\n",
              " 'Avanza en San Lázaro ley para fortalecer al IMSS Bienestar',\n",
              " 'Casos de meningitis aséptica en Durango siguen sin esclarecerse: IMSS']"
            ]
          },
          "metadata": {},
          "execution_count": 4
        }
      ]
    },
    {
      "cell_type": "code",
      "source": [
        "import pandas as pd\n",
        "\n",
        "df_true_spanish = pd.DataFrame (news_titles, columns = ['Titles'])\n",
        "print (df_true_spanish)"
      ],
      "metadata": {
        "colab": {
          "base_uri": "https://localhost:8080/"
        },
        "id": "P2iXAThx8uDM",
        "outputId": "99de598b-f341-4e97-e776-0e884f8e8fff"
      },
      "execution_count": null,
      "outputs": [
        {
          "output_type": "stream",
          "name": "stdout",
          "text": [
            "                                                Titles\n",
            "0    La Mañanera de AMLO. Los temas del 23 de novie...\n",
            "1    AMLO enviará \"en estos días\" reforma electoral...\n",
            "2    Quienes están contra reforma electoral repudia...\n",
            "3    AMLO convoca a marcha, desfile o acarreo para ...\n",
            "4    Marcha del domingo puede ser la última a la qu...\n",
            "..                                                 ...\n",
            "99   “Ya no estamos en tiempo de una reforma electo...\n",
            "100  Gabriel Boric, presidente de Chile, llega a Mé...\n",
            "101  Senado presentará proyecto de decreto para ele...\n",
            "102  Avanza en San Lázaro ley para fortalecer al IM...\n",
            "103  Casos de meningitis aséptica en Durango siguen...\n",
            "\n",
            "[104 rows x 1 columns]\n"
          ]
        }
      ]
    },
    {
      "cell_type": "code",
      "source": [
        "df_true_spanish.to_csv('true_1.csv')"
      ],
      "metadata": {
        "id": "popViSCze3ON"
      },
      "execution_count": null,
      "outputs": []
    },
    {
      "cell_type": "code",
      "source": [
        "from bs4 import BeautifulSoup\n",
        "import requests\n",
        "url = \"https://aristeguinoticias.com/tag/politica/\"\n",
        "res = requests.get(url)\n",
        "soup = BeautifulSoup(res.text)"
      ],
      "metadata": {
        "id": "0P_thd4URRyh"
      },
      "execution_count": null,
      "outputs": []
    },
    {
      "cell_type": "code",
      "source": [
        "titles_jornada = soup.select(\".pb-1\")\n",
        "print(titles_jornada)"
      ],
      "metadata": {
        "colab": {
          "base_uri": "https://localhost:8080/"
        },
        "id": "Ijz7TYobSKgC",
        "outputId": "ed42dfce-893d-4ba8-c103-22ae8b900077"
      },
      "execution_count": null,
      "outputs": [
        {
          "output_type": "stream",
          "name": "stdout",
          "text": [
            "[<h2 class=\"pb-1\" itemprop=\"headline\">Liberan al hermano del expresidente peruano Humala tras cumplir condena por rebelión</h2>, <h2 class=\"pb-1\" itemprop=\"headline\">Presidente de Sri Lanka confirma su renuncia; partidos buscan conformar un gobierno de unidad</h2>, <h2 class=\"pb-1\" itemprop=\"headline\">España: AMLO, Boric, Fernández y Petro condenan las noticias falsas sobre Pablo Iglesias, fundador de Podemos</h2>, <h2 class=\"pb-1\" itemprop=\"headline\">EU excluye a Cuba, Venezuela y Nicaragua de la Cumbre de las Américas: Reuters</h2>, <h2 class=\"pb-1\" itemprop=\"headline\">'Es falso y vergonzoso': Sheinbaum sobre señalamientos de vínculos entre Morena y el narco</h2>, <h2 class=\"pb-1\" itemprop=\"headline\">Sería ilógico que EPN no estuviera detrás del caso César Duarte: Javier Corral</h2>, <h2 class=\"pb-1\" itemprop=\"headline\">Alianza 'Va por México' se mantiene \"en la misma sintonía\" pese a polémicas de 'Alito': Jesús Zambrano</h2>, <h2 class=\"pb-1\" itemprop=\"headline\">\"Me preguntan qué es la 4T y yo no sé qué responder\": Cuauhtémoc Cárdenas</h2>, <h2 class=\"pb-1\" itemprop=\"headline\">Senador Armenta reveló que denunció ante FGR a director de Diario Cambio por extorsión</h2>, <h2 class=\"pb-1\" itemprop=\"headline\">FGR: Scherer y abogados allegados obtuvieron 37 mdp por supuesta extorsión a Collado</h2>, <h2 class=\"pb-1\" itemprop=\"headline\">AMLO asegura que no excluye a Ricardo Monreal rumbo al 2024</h2>, <h2 class=\"pb-1\" itemprop=\"headline\">El cantante de OV7, Ari Borovoy, anuncia que quiere ser diputado</h2>, <h2 class=\"pb-1\" itemprop=\"headline\">\"Hay manipulación política\" en investigación sobre Línea 12: abogado | Video</h2>, <h2 class=\"pb-1\" itemprop=\"headline\">Estamos buscando hacer un periodismo que le sirvan a la gente: Daniel Coronell | Video</h2>, <h2 class=\"pb-1\" itemprop=\"headline\">Hay un deterioro progresivo en la libertad de prensa en América Latina: Colombié | Video</h2>, <h2 class=\"pb-1\" itemprop=\"headline\">Reforma electoral busca generar polémica a partir de una posverdad: Núñez | Video</h2>, <h2 class=\"pb-1\" itemprop=\"headline\">Reforma electoral propone desarticular la burocracia y partidocracia: Pérez; oposición echará abajo la propuesta: Meyer | Video</h2>, <h2 class=\"pb-1\" itemprop=\"headline\">Coyuntura política en Estados Unidos puede hacer ‘palidecer al radicalismo de Trump’: Guillén | Video</h2>, <h2 class=\"pb-1\" itemprop=\"headline\">El contexto migratorio será usado como botín político | Entérate</h2>, <h2 class=\"pb-1\" itemprop=\"headline\">Jaime Rodríguez, “El Bronco”, está en un limbo jurídico: Adalina Dávalos | Entérate</h2>, <h2 class=\"pb-1\" itemprop=\"headline\">“El Bronco” es el desvío de atención de otros problemas en Nuevo León: Adalina Dávalos | Entérate</h2>, <h2 class=\"pb-1\" itemprop=\"headline\">Esposa de El Bronco denuncia injusticia y ‘abusos’ en caso del ex-gobernador de Nuevo León | Video</h2>, <h2 class=\"pb-1\" itemprop=\"headline\">\"Hay una captura de la política y ciencia a través de compañías como Coca-Cola\": Calvillo | Video</h2>, <h2 class=\"pb-1\" itemprop=\"headline\">Transparencia en el algoritmo y combate a los bots, centro del discurso de Musk para Twitter: DPL | Video</h2>, <h2 class=\"pb-1\" itemprop=\"headline\">AMLO afirma que la polarización no existe en México | Entérate</h2>, <h2 class=\"pb-1\" itemprop=\"headline\">Miente SCJN en comunicado sobre aval que deja vigente ley eléctrica: Álvarez Icaza | Video</h2>, <h2 class=\"pb-1\" itemprop=\"headline\">En discusión de reforma eléctrica ‘la política e ideología dominaron las discusiones’: Galván | Video</h2>, <h2 class=\"pb-1\" itemprop=\"headline\">Uno de cada dos votos en Francia fueron para políticos de extrema derecha: analista | Video</h2>, <h2 class=\"pb-1\" itemprop=\"headline\">Hay intervención de empresas como Coca-Cola en políticas públicas y órganos reguladores: Calvillo | Video</h2>]\n"
          ]
        }
      ]
    },
    {
      "cell_type": "code",
      "source": [
        "news_titles = [title.text for title in titles_jornada]\n",
        "news_titles"
      ],
      "metadata": {
        "colab": {
          "base_uri": "https://localhost:8080/"
        },
        "id": "wNXIoMLlSNxf",
        "outputId": "1e94dada-d74a-4415-9416-5bda6d3566fa"
      },
      "execution_count": null,
      "outputs": [
        {
          "output_type": "execute_result",
          "data": {
            "text/plain": [
              "['Liberan al hermano del expresidente peruano Humala tras cumplir condena por rebelión',\n",
              " 'Presidente de Sri Lanka confirma su renuncia; partidos buscan conformar un gobierno de unidad',\n",
              " 'España: AMLO, Boric, Fernández y Petro condenan las noticias falsas sobre Pablo Iglesias, fundador de Podemos',\n",
              " 'EU excluye a Cuba, Venezuela y Nicaragua de la Cumbre de las Américas: Reuters',\n",
              " \"'Es falso y vergonzoso': Sheinbaum sobre señalamientos de vínculos entre Morena y el narco\",\n",
              " 'Sería ilógico que EPN no estuviera detrás del caso César Duarte: Javier Corral',\n",
              " 'Alianza \\'Va por México\\' se mantiene \"en la misma sintonía\" pese a polémicas de \\'Alito\\': Jesús Zambrano',\n",
              " '\"Me preguntan qué es la 4T y yo no sé qué responder\": Cuauhtémoc Cárdenas',\n",
              " 'Senador Armenta reveló que denunció ante FGR a director de Diario Cambio por extorsión',\n",
              " 'FGR: Scherer y abogados allegados obtuvieron 37 mdp por supuesta extorsión a Collado',\n",
              " 'AMLO asegura que no excluye a Ricardo Monreal rumbo al 2024',\n",
              " 'El cantante de OV7, Ari Borovoy, anuncia que quiere ser diputado',\n",
              " '\"Hay manipulación política\" en investigación sobre Línea 12: abogado | Video',\n",
              " 'Estamos buscando hacer un periodismo que le sirvan a la gente: Daniel Coronell | Video',\n",
              " 'Hay un deterioro progresivo en la libertad de prensa en América Latina: Colombié | Video',\n",
              " 'Reforma electoral busca generar polémica a partir de una posverdad: Núñez | Video',\n",
              " 'Reforma electoral propone desarticular la burocracia y partidocracia: Pérez; oposición echará abajo la propuesta: Meyer | Video',\n",
              " 'Coyuntura política en Estados Unidos puede hacer ‘palidecer al radicalismo de Trump’: Guillén | Video',\n",
              " 'El contexto migratorio será usado como botín político | Entérate',\n",
              " 'Jaime Rodríguez, “El Bronco”, está en un limbo jurídico: Adalina Dávalos | Entérate',\n",
              " '“El Bronco” es el desvío de atención de otros problemas en Nuevo León: Adalina Dávalos | Entérate',\n",
              " 'Esposa de El Bronco denuncia injusticia y ‘abusos’ en caso del ex-gobernador de Nuevo León | Video',\n",
              " '\"Hay una captura de la política y ciencia a través de compañías como Coca-Cola\": Calvillo | Video',\n",
              " 'Transparencia en el algoritmo y combate a los bots, centro del discurso de Musk para Twitter: DPL | Video',\n",
              " 'AMLO afirma que la polarización no existe en México | Entérate',\n",
              " 'Miente SCJN en comunicado sobre aval que deja vigente ley eléctrica: Álvarez Icaza | Video',\n",
              " 'En discusión de reforma eléctrica ‘la política e ideología dominaron las discusiones’: Galván | Video',\n",
              " 'Uno de cada dos votos en Francia fueron para políticos de extrema derecha: analista | Video',\n",
              " 'Hay intervención de empresas como Coca-Cola en políticas públicas y órganos reguladores: Calvillo | Video']"
            ]
          },
          "metadata": {},
          "execution_count": 23
        }
      ]
    },
    {
      "cell_type": "code",
      "source": [
        "import pandas as pd\n",
        "\n",
        "df_true_spanish_2 = pd.DataFrame (news_titles, columns = ['Titles'])\n",
        "print (df_true_spanish_2)"
      ],
      "metadata": {
        "colab": {
          "base_uri": "https://localhost:8080/"
        },
        "id": "j7yWfeagS3kj",
        "outputId": "17d90461-a914-4062-ece9-e581495ef427"
      },
      "execution_count": null,
      "outputs": [
        {
          "output_type": "stream",
          "name": "stdout",
          "text": [
            "                                               Titles\n",
            "0   Liberan al hermano del expresidente peruano Hu...\n",
            "1   Presidente de Sri Lanka confirma su renuncia; ...\n",
            "2   España: AMLO, Boric, Fernández y Petro condena...\n",
            "3   EU excluye a Cuba, Venezuela y Nicaragua de la...\n",
            "4   'Es falso y vergonzoso': Sheinbaum sobre señal...\n",
            "5   Sería ilógico que EPN no estuviera detrás del ...\n",
            "6   Alianza 'Va por México' se mantiene \"en la mis...\n",
            "7   \"Me preguntan qué es la 4T y yo no sé qué resp...\n",
            "8   Senador Armenta reveló que denunció ante FGR a...\n",
            "9   FGR: Scherer y abogados allegados obtuvieron 3...\n",
            "10  AMLO asegura que no excluye a Ricardo Monreal ...\n",
            "11  El cantante de OV7, Ari Borovoy, anuncia que q...\n",
            "12  \"Hay manipulación política\" en investigación s...\n",
            "13  Estamos buscando hacer un periodismo que le si...\n",
            "14  Hay un deterioro progresivo en la libertad de ...\n",
            "15  Reforma electoral busca generar polémica a par...\n",
            "16  Reforma electoral propone desarticular la buro...\n",
            "17  Coyuntura política en Estados Unidos puede hac...\n",
            "18  El contexto migratorio será usado como botín p...\n",
            "19  Jaime Rodríguez, “El Bronco”, está en un limbo...\n",
            "20  “El Bronco” es el desvío de atención de otros ...\n",
            "21  Esposa de El Bronco denuncia injusticia y ‘abu...\n",
            "22  \"Hay una captura de la política y ciencia a tr...\n",
            "23  Transparencia en el algoritmo y combate a los ...\n",
            "24  AMLO afirma que la polarización no existe en M...\n",
            "25  Miente SCJN en comunicado sobre aval que deja ...\n",
            "26  En discusión de reforma eléctrica ‘la política...\n",
            "27  Uno de cada dos votos en Francia fueron para p...\n",
            "28  Hay intervención de empresas como Coca-Cola en...\n"
          ]
        }
      ]
    },
    {
      "cell_type": "code",
      "source": [
        "df_true_spanish_2.to_csv('true_2.csv')"
      ],
      "metadata": {
        "id": "jTVIyktmg0_k"
      },
      "execution_count": null,
      "outputs": []
    },
    {
      "cell_type": "code",
      "source": [
        "from bs4 import BeautifulSoup\n",
        "import requests\n",
        "url = \"https://www.tvazteca.com/aztecanoticias/politica\"\n",
        "res = requests.get(url)\n",
        "soup = BeautifulSoup(res.text)\n",
        "titles = soup.select(\"span.card-description.description--general\")\n",
        "news_titles = [title.text for title in titles]\n",
        "import pandas as pd\n",
        "df_true_spanish_3 = pd.DataFrame (news_titles, columns = ['Titles'])\n",
        "print (df_true_spanish_3)"
      ],
      "metadata": {
        "colab": {
          "base_uri": "https://localhost:8080/"
        },
        "id": "-KGTXsS0hC5z",
        "outputId": "1cb63803-6bf6-4684-d496-2906c9278709"
      },
      "execution_count": null,
      "outputs": [
        {
          "output_type": "stream",
          "name": "stdout",
          "text": [
            "                                               Titles\n",
            "0   \\n          AMLO recibe la visita oficial de G...\n",
            "1   \\n          Estos autos no circulan el jueves ...\n",
            "2   \\n          Sí va a haber acarreados: AMLO iro...\n",
            "3   \\n          Gobierno de CDMX mantiene cero tol...\n",
            "4   \\n          Sheinbaum revela intenciones de ca...\n",
            "5   \\n          Inicia en comisiones entrega del d...\n",
            "6   \\n          ¡La polémica está en marcha! DesHe...\n",
            "7   \\n          Menú político | más de lo mismo du...\n",
            "8   \\n          Reforma Electoral: En 2007, políti...\n",
            "9   \\n          IMSS-Bienestar funciona como los p...\n",
            "10  \\n          México tiene la democracia más car...\n",
            "11  \\n          Reforma Electoral: Los falsos argu...\n",
            "12  \\n          Las \"corcholatas\": Los DesHechos d...\n",
            "13  \\n          Reforma Electoral: ¿Qué propone la...\n",
            "14  \\n          Reforma Electoral: ¿El INE desapar...\n",
            "15  \\n          El IMSS ganó la batalla contra el ...\n",
            "16  \\n          Sheinbaum acusa a FGE Morelos de c...\n",
            "17  \\n          Marcelo Ebrard busca atraer invers...\n",
            "18  \\n          Así vivieron los políticos el debu...\n",
            "19  \\n          Zócalo brilla con alumbrado sobre ...\n",
            "20  \\n          Fox y Gordillo, los políticos que ...\n",
            "21  \\n          Obrador llena el Zócalo en el AMLO...\n",
            "22  \\n          AMLO en la Cumbre del Líderes de A...\n",
            "23  \\n          FOTOS: Así fue la llegada de 800 m...\n",
            "24  \\n          AMLO presume los avances del Aerop...\n",
            "25  \\n          #EnImágenes: La llegada del presid...\n",
            "26  \\n          FOTOS | Estudio clínico Fase III d...\n",
            "27  \\n          López Obrador analizará reforma al...\n",
            "28  \\n          Galería: Muñoz Ledo exige la renun...\n",
            "29  \\n          FOTOS | Así ocurre el encuentro en...\n"
          ]
        }
      ]
    },
    {
      "cell_type": "code",
      "source": [
        "df_true_spanish_3.to_csv('true_3.csv')"
      ],
      "metadata": {
        "id": "VmlQ4sVhhbxH"
      },
      "execution_count": null,
      "outputs": []
    },
    {
      "cell_type": "code",
      "source": [
        "from bs4 import BeautifulSoup\n",
        "import requests\n",
        "url = \"https://www.elsoldehidalgo.com.mx/mexico/politica/\"\n",
        "res = requests.get(url)\n",
        "soup = BeautifulSoup(res.text)\n",
        "titles = soup.select(\".title a\")\n",
        "news_titles = [title.text for title in titles]\n",
        "import pandas as pd\n",
        "df_true_spanish_4 = pd.DataFrame (news_titles, columns = ['Titles'])\n",
        "print (df_true_spanish_4)"
      ],
      "metadata": {
        "colab": {
          "base_uri": "https://localhost:8080/"
        },
        "id": "Imbi8OHvlDMX",
        "outputId": "cfed0bf9-6044-47c9-c571-6e4d62fe1870"
      },
      "execution_count": null,
      "outputs": [
        {
          "output_type": "stream",
          "name": "stdout",
          "text": [
            "                                               Titles\n",
            "0      \\nSí quiero ser presidenta: Claudia Sheinbaum \n",
            "1   \\nPuede ser la última: AMLO sobre la marcha de...\n",
            "2   \\nGabriel Boric, presidente de Chile, arriba a...\n",
            "3   \\nInsiste AMLO que su marcha es para celebrar,...\n",
            "4   \\nNo hay ni hubo acuerdo con el gobierno, sost...\n",
            "5   \\nResalta AMLO lucha de Flores Magón: sus idea...\n",
            "6   \\nAdán Augusto López califica como caricatura ...\n",
            "7   \\nAMLO arremete contra Grupo México ante deman...\n",
            "8   \\nAMLO minimiza reunión de la ultraderecha: Ca...\n",
            "9   \\nCumbre de la Alianza del Pacífico podría sus...\n",
            "10  \\nTras desaire del BID, 4T buscará lugar para ...\n",
            "11  \\nCPAC llama a formar un frente conservador na...\n",
            "12  \\nCumbre conservadora arremete contra el voto ...\n",
            "13  \\nMonreal no asistirá a marcha de AMLO; irá a ...\n",
            "14  \\nAMLO publica decreto para mantener Fuerzas A...\n",
            "15     \\nMorena busca control de renovación del INE\\n\n",
            "16  \\nSenado sufrió más de 300 mil intentos de hac...\n"
          ]
        }
      ]
    },
    {
      "cell_type": "code",
      "source": [
        "from bs4 import BeautifulSoup\n",
        "import requests\n",
        "url = \"https://www.proceso.com.mx/nacional/politica/\"\n",
        "res = requests.get(url)\n",
        "soup = BeautifulSoup(res.text)\n",
        "soup = BeautifulSoup(res.content, \"html.parser\")\n",
        "titles = soup.select(\".titulo a\")\n",
        "news_titles = [title.text for title in titles]\n",
        "import pandas as pd\n",
        "df_true_spanish_4 = pd.DataFrame (news_titles, columns = ['Titles'])\n",
        "print (df_true_spanish_4)"
      ],
      "metadata": {
        "colab": {
          "base_uri": "https://localhost:8080/"
        },
        "id": "m8RBJ1A-ETra",
        "outputId": "5ef5608f-00e3-426b-cb4f-0dd446c127ca"
      },
      "execution_count": null,
      "outputs": [
        {
          "output_type": "stream",
          "name": "stdout",
          "text": [
            "Empty DataFrame\n",
            "Columns: [Titles]\n",
            "Index: []\n"
          ]
        }
      ]
    },
    {
      "cell_type": "code",
      "source": [
        "from bs4 import BeautifulSoup\n",
        "import requests\n",
        "url = \"https://nacionunida.com/\"\n",
        "res = requests.get(url)\n",
        "soup = BeautifulSoup(res.text)"
      ],
      "metadata": {
        "id": "LHL3GFx5oX6v"
      },
      "execution_count": null,
      "outputs": []
    },
    {
      "cell_type": "code",
      "source": [
        "titles = soup.select(\"#post-items .entry-title\")\n",
        "print(titles)"
      ],
      "metadata": {
        "colab": {
          "base_uri": "https://localhost:8080/"
        },
        "id": "HQ0gEjljooUd",
        "outputId": "6364ce2c-3ec6-4e31-c1cb-e6cc92976382"
      },
      "execution_count": null,
      "outputs": [
        {
          "output_type": "stream",
          "name": "stdout",
          "text": [
            "[<h2 class=\"entry-title\"><a href=\"https://nacionunida.com/2020/02/11/el-fobaproa-la-deuda-interminable-del-prian-que-se-terminara-de-pagar-en-50-anos/\" rel=\"bookmark\">El Fobaproa, la deuda interminable del PRIAN que se terminará de pagar en 50 años</a></h2>, <h2 class=\"entry-title\"><a href=\"https://nacionunida.com/2018/11/16/fuerte-golpe-al-prian-senado-aprueba-confiscar-propiedades-y-cuentas-politicos-corruptos/\" rel=\"bookmark\">Fuerte golpe al PRIAN: Senado aprueba confiscar bienes provenientes de corrupción</a></h2>, <h2 class=\"entry-title\"><a href=\"https://nacionunida.com/2019/05/23/descubren-tambien-que-la-hija-de-fox-esta-vinculada-con-la-secta-nxivm-en-la-que-tienen-nexos-el-hijo-de-salinas-de-gortari-y-la-hija-del-director-de-reforma/\" rel=\"bookmark\">Descubren también que la hija de Fox está vinculada con la secta NXIVM en la que tienen nexos el hijo de Salinas de Gortari y la hija del director de Reforma</a></h2>, <h2 class=\"entry-title\"><a href=\"https://nacionunida.com/2019/03/22/profeco-advierte-que-nutrileche-no-es-leche-no-debe-llevar-una-vaca-pintada-y-no-debiera-llamarse-nutrileche/\" rel=\"bookmark\">PROFECO advierte que Nutrileche NO es leche; »No debe llevar una vaca pintada y no debiera llamarse Nutrileche.»</a></h2>, <h2 class=\"entry-title\"><a href=\"https://nacionunida.com/2019/02/28/estos-son-los-telefonos-para-que-llames-y-te-censen-para-el-programa-bienestar-si-aun-no-te-llaman/\" rel=\"bookmark\">Estos son los TELÉFONOS para que llames y te censen para el programa Bienestar, si aún no te llaman</a></h2>, <h2 class=\"entry-title\"><a href=\"https://nacionunida.com/2018/03/06/la-descendiente-miguel-hidalgo-costilla-vive-chihuahua/\" rel=\"bookmark\">Ella es la descendiente de Miguel Hidalgo y Costilla, vive en Chihuahua</a></h2>]\n"
          ]
        }
      ]
    },
    {
      "cell_type": "code",
      "source": [
        "news_titles = [title.text for title in titles]\n",
        "news_titles"
      ],
      "metadata": {
        "colab": {
          "base_uri": "https://localhost:8080/"
        },
        "id": "wM6AB1b3pzGZ",
        "outputId": "835c1172-61b2-4d78-e7e3-4f677aac20fe"
      },
      "execution_count": null,
      "outputs": [
        {
          "output_type": "execute_result",
          "data": {
            "text/plain": [
              "['El Fobaproa, la deuda interminable del PRIAN que se terminará de pagar en 50 años',\n",
              " 'Fuerte golpe al PRIAN: Senado aprueba confiscar bienes provenientes de corrupción',\n",
              " 'Descubren también que la hija de Fox está vinculada con la secta NXIVM en la que tienen nexos el hijo de Salinas de Gortari y la hija del director de Reforma',\n",
              " 'PROFECO advierte que Nutrileche NO es leche; »No debe llevar una vaca pintada y no debiera llamarse Nutrileche.»',\n",
              " 'Estos son los TELÉFONOS para que llames y te censen para el programa Bienestar, si aún no te llaman',\n",
              " 'Ella es la descendiente de Miguel Hidalgo y Costilla, vive en Chihuahua']"
            ]
          },
          "metadata": {},
          "execution_count": 3
        }
      ]
    },
    {
      "cell_type": "code",
      "source": [
        "import pandas as pd\n",
        "\n",
        "df_true_spanish = pd.DataFrame (news_titles, columns = ['Titles'])\n",
        "print (df_true_spanish)"
      ],
      "metadata": {
        "colab": {
          "base_uri": "https://localhost:8080/"
        },
        "id": "e2muWzzSp3SP",
        "outputId": "aeafe35f-7e84-4057-e274-eef52499da21"
      },
      "execution_count": null,
      "outputs": [
        {
          "output_type": "stream",
          "name": "stdout",
          "text": [
            "                                              Titles\n",
            "0  El Fobaproa, la deuda interminable del PRIAN q...\n",
            "1  Fuerte golpe al PRIAN: Senado aprueba confisca...\n",
            "2  Descubren también que la hija de Fox está vinc...\n",
            "3  PROFECO advierte que Nutrileche NO es leche; »...\n",
            "4  Estos son los TELÉFONOS para que llames y te c...\n",
            "5  Ella es la descendiente de Miguel Hidalgo y Co...\n"
          ]
        }
      ]
    },
    {
      "cell_type": "code",
      "source": [],
      "metadata": {
        "id": "Gnq9-5Z5q_vA"
      },
      "execution_count": null,
      "outputs": []
    }
  ]
}